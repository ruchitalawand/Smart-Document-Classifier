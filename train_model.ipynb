{
 "cells": [
  {
   "cell_type": "markdown",
   "metadata": {},
   "source": [
    "# 🧠 Fine-tune DistilBERT for Document Classification"
   ]
  },
  {
   "cell_type": "code",
   "execution_count": null,
   "metadata": {},
   "outputs": [],
   "source": [
    "from transformers import DistilBertTokenizerFast, DistilBertForSequenceClassification, Trainer, TrainingArguments
",
    "from datasets import load_dataset
",
    "import torch

",
    "# Dummy dataset
",
    "dataset = load_dataset("ag_news")

",
    "tokenizer = DistilBertTokenizerFast.from_pretrained("distilbert-base-uncased")
",
    "def tokenize(batch):
",
    "    return tokenizer(batch['text'], padding=True, truncation=True)

",
    "dataset = dataset.map(tokenize, batched=True)
",
    "dataset.set_format('torch', columns=['input_ids', 'attention_mask', 'label'])

",
    "model = DistilBertForSequenceClassification.from_pretrained("distilbert-base-uncased", num_labels=4)

",
    "training_args = TrainingArguments(output_dir="./results", evaluation_strategy="epoch", per_device_train_batch_size=16, num_train_epochs=1)
",
    "trainer = Trainer(model=model, args=training_args, train_dataset=dataset['train'], eval_dataset=dataset['test'])

",
    "trainer.train()"
   ]
  }
 ],
 "metadata": {},
 "nbformat": 4,
 "nbformat_minor": 2
}